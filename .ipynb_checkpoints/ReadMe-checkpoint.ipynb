{
 "cells": [
  {
   "cell_type": "markdown",
   "id": "2417612c-ba08-4470-bab6-30f88bf57ce8",
   "metadata": {},
   "source": [
    "## ReadMe"
   ]
  },
  {
   "cell_type": "markdown",
   "id": "a5a81139-9f27-4487-8428-250ba969a548",
   "metadata": {},
   "source": [
    "En este ejercicio de ETL vamos a utilizar datos basados en una maratón en Barcelona.\n",
    "\n",
    "Hemos extraido una base de datos en csv y hemos scrapeado la información de una página web para hacer la unión de ambas tablas.\n",
    "\n",
    "El proceso ha consistido en trabajar en el cuaderno Jupyter para poder limpiar y transformar los datos, tanto añadiendo, como sustituyendo valores nulos y quitando duplicados.\n",
    "\n",
    "Una vez tenemos la tabla lista la importamos a MySQL para poder lanzar varias queries comprobando que la tabla está correctamente."
   ]
  },
  {
   "cell_type": "code",
   "execution_count": null,
   "id": "c1fc1294-fdf6-43a1-8b44-b57b300aa5f7",
   "metadata": {},
   "outputs": [],
   "source": []
  }
 ],
 "metadata": {
  "kernelspec": {
   "display_name": "Python 3 (ipykernel)",
   "language": "python",
   "name": "python3"
  },
  "language_info": {
   "codemirror_mode": {
    "name": "ipython",
    "version": 3
   },
   "file_extension": ".py",
   "mimetype": "text/x-python",
   "name": "python",
   "nbconvert_exporter": "python",
   "pygments_lexer": "ipython3",
   "version": "3.9.13"
  }
 },
 "nbformat": 4,
 "nbformat_minor": 5
}
