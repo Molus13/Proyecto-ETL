{
 "cells": [
  {
   "cell_type": "code",
   "execution_count": 1,
   "id": "a179e464-e324-4ce4-817b-a3241ec64b74",
   "metadata": {},
   "outputs": [],
   "source": [
    "from pandas.io import sql\n",
    "import pandas as pd\n",
    "import sqlalchemy as db\n",
    "from datetime import datetime, date\n",
    "import requests as req\n",
    "from bs4 import BeautifulSoup as bs\n",
    "import numpy as np \n",
    "import pymysql"
   ]
  },
  {
   "cell_type": "markdown",
   "id": "dbe95f77-5c39-4106-97fb-7e88df8d48df",
   "metadata": {},
   "source": [
    "## Extracción de datos"
   ]
  },
  {
   "cell_type": "markdown",
   "id": "b6c6e542-a917-413a-86fa-17b189cc5cb2",
   "metadata": {},
   "source": [
    "Importamos csv de base de datos"
   ]
  },
  {
   "cell_type": "code",
   "execution_count": 2,
   "id": "688b45ef-bbec-49c7-8d62-ceae0125417f",
   "metadata": {},
   "outputs": [
    {
     "ename": "FileNotFoundError",
     "evalue": "[Errno 2] No such file or directory: 'Maraton-.csv'",
     "output_type": "error",
     "traceback": [
      "\u001b[1;31m---------------------------------------------------------------------------\u001b[0m",
      "\u001b[1;31mFileNotFoundError\u001b[0m                         Traceback (most recent call last)",
      "\u001b[1;32m~\\AppData\\Local\\Temp\\ipykernel_18820\\840103264.py\u001b[0m in \u001b[0;36m<module>\u001b[1;34m\u001b[0m\n\u001b[1;32m----> 1\u001b[1;33m \u001b[0mdf1\u001b[0m \u001b[1;33m=\u001b[0m \u001b[0mpd\u001b[0m\u001b[1;33m.\u001b[0m\u001b[0mread_csv\u001b[0m\u001b[1;33m(\u001b[0m\u001b[1;34m\"Maraton-.csv\"\u001b[0m\u001b[1;33m)\u001b[0m\u001b[1;33m\u001b[0m\u001b[1;33m\u001b[0m\u001b[0m\n\u001b[0m\u001b[0;32m      2\u001b[0m \u001b[1;33m\u001b[0m\u001b[0m\n\u001b[0;32m      3\u001b[0m \u001b[1;31m# Mostrar las primeras 5 filas del DataFrame\u001b[0m\u001b[1;33m\u001b[0m\u001b[1;33m\u001b[0m\u001b[0m\n\u001b[0;32m      4\u001b[0m \u001b[0mprint\u001b[0m\u001b[1;33m(\u001b[0m\u001b[0mdf1\u001b[0m\u001b[1;33m.\u001b[0m\u001b[0mhead\u001b[0m\u001b[1;33m(\u001b[0m\u001b[1;33m)\u001b[0m\u001b[1;33m)\u001b[0m\u001b[1;33m\u001b[0m\u001b[1;33m\u001b[0m\u001b[0m\n",
      "\u001b[1;32m~\\anaconda3\\lib\\site-packages\\pandas\\util\\_decorators.py\u001b[0m in \u001b[0;36mwrapper\u001b[1;34m(*args, **kwargs)\u001b[0m\n\u001b[0;32m    309\u001b[0m                     \u001b[0mstacklevel\u001b[0m\u001b[1;33m=\u001b[0m\u001b[0mstacklevel\u001b[0m\u001b[1;33m,\u001b[0m\u001b[1;33m\u001b[0m\u001b[1;33m\u001b[0m\u001b[0m\n\u001b[0;32m    310\u001b[0m                 )\n\u001b[1;32m--> 311\u001b[1;33m             \u001b[1;32mreturn\u001b[0m \u001b[0mfunc\u001b[0m\u001b[1;33m(\u001b[0m\u001b[1;33m*\u001b[0m\u001b[0margs\u001b[0m\u001b[1;33m,\u001b[0m \u001b[1;33m**\u001b[0m\u001b[0mkwargs\u001b[0m\u001b[1;33m)\u001b[0m\u001b[1;33m\u001b[0m\u001b[1;33m\u001b[0m\u001b[0m\n\u001b[0m\u001b[0;32m    312\u001b[0m \u001b[1;33m\u001b[0m\u001b[0m\n\u001b[0;32m    313\u001b[0m         \u001b[1;32mreturn\u001b[0m \u001b[0mwrapper\u001b[0m\u001b[1;33m\u001b[0m\u001b[1;33m\u001b[0m\u001b[0m\n",
      "\u001b[1;32m~\\anaconda3\\lib\\site-packages\\pandas\\io\\parsers\\readers.py\u001b[0m in \u001b[0;36mread_csv\u001b[1;34m(filepath_or_buffer, sep, delimiter, header, names, index_col, usecols, squeeze, prefix, mangle_dupe_cols, dtype, engine, converters, true_values, false_values, skipinitialspace, skiprows, skipfooter, nrows, na_values, keep_default_na, na_filter, verbose, skip_blank_lines, parse_dates, infer_datetime_format, keep_date_col, date_parser, dayfirst, cache_dates, iterator, chunksize, compression, thousands, decimal, lineterminator, quotechar, quoting, doublequote, escapechar, comment, encoding, encoding_errors, dialect, error_bad_lines, warn_bad_lines, on_bad_lines, delim_whitespace, low_memory, memory_map, float_precision, storage_options)\u001b[0m\n\u001b[0;32m    676\u001b[0m     \u001b[0mkwds\u001b[0m\u001b[1;33m.\u001b[0m\u001b[0mupdate\u001b[0m\u001b[1;33m(\u001b[0m\u001b[0mkwds_defaults\u001b[0m\u001b[1;33m)\u001b[0m\u001b[1;33m\u001b[0m\u001b[1;33m\u001b[0m\u001b[0m\n\u001b[0;32m    677\u001b[0m \u001b[1;33m\u001b[0m\u001b[0m\n\u001b[1;32m--> 678\u001b[1;33m     \u001b[1;32mreturn\u001b[0m \u001b[0m_read\u001b[0m\u001b[1;33m(\u001b[0m\u001b[0mfilepath_or_buffer\u001b[0m\u001b[1;33m,\u001b[0m \u001b[0mkwds\u001b[0m\u001b[1;33m)\u001b[0m\u001b[1;33m\u001b[0m\u001b[1;33m\u001b[0m\u001b[0m\n\u001b[0m\u001b[0;32m    679\u001b[0m \u001b[1;33m\u001b[0m\u001b[0m\n\u001b[0;32m    680\u001b[0m \u001b[1;33m\u001b[0m\u001b[0m\n",
      "\u001b[1;32m~\\anaconda3\\lib\\site-packages\\pandas\\io\\parsers\\readers.py\u001b[0m in \u001b[0;36m_read\u001b[1;34m(filepath_or_buffer, kwds)\u001b[0m\n\u001b[0;32m    573\u001b[0m \u001b[1;33m\u001b[0m\u001b[0m\n\u001b[0;32m    574\u001b[0m     \u001b[1;31m# Create the parser.\u001b[0m\u001b[1;33m\u001b[0m\u001b[1;33m\u001b[0m\u001b[0m\n\u001b[1;32m--> 575\u001b[1;33m     \u001b[0mparser\u001b[0m \u001b[1;33m=\u001b[0m \u001b[0mTextFileReader\u001b[0m\u001b[1;33m(\u001b[0m\u001b[0mfilepath_or_buffer\u001b[0m\u001b[1;33m,\u001b[0m \u001b[1;33m**\u001b[0m\u001b[0mkwds\u001b[0m\u001b[1;33m)\u001b[0m\u001b[1;33m\u001b[0m\u001b[1;33m\u001b[0m\u001b[0m\n\u001b[0m\u001b[0;32m    576\u001b[0m \u001b[1;33m\u001b[0m\u001b[0m\n\u001b[0;32m    577\u001b[0m     \u001b[1;32mif\u001b[0m \u001b[0mchunksize\u001b[0m \u001b[1;32mor\u001b[0m \u001b[0miterator\u001b[0m\u001b[1;33m:\u001b[0m\u001b[1;33m\u001b[0m\u001b[1;33m\u001b[0m\u001b[0m\n",
      "\u001b[1;32m~\\anaconda3\\lib\\site-packages\\pandas\\io\\parsers\\readers.py\u001b[0m in \u001b[0;36m__init__\u001b[1;34m(self, f, engine, **kwds)\u001b[0m\n\u001b[0;32m    930\u001b[0m \u001b[1;33m\u001b[0m\u001b[0m\n\u001b[0;32m    931\u001b[0m         \u001b[0mself\u001b[0m\u001b[1;33m.\u001b[0m\u001b[0mhandles\u001b[0m\u001b[1;33m:\u001b[0m \u001b[0mIOHandles\u001b[0m \u001b[1;33m|\u001b[0m \u001b[1;32mNone\u001b[0m \u001b[1;33m=\u001b[0m \u001b[1;32mNone\u001b[0m\u001b[1;33m\u001b[0m\u001b[1;33m\u001b[0m\u001b[0m\n\u001b[1;32m--> 932\u001b[1;33m         \u001b[0mself\u001b[0m\u001b[1;33m.\u001b[0m\u001b[0m_engine\u001b[0m \u001b[1;33m=\u001b[0m \u001b[0mself\u001b[0m\u001b[1;33m.\u001b[0m\u001b[0m_make_engine\u001b[0m\u001b[1;33m(\u001b[0m\u001b[0mf\u001b[0m\u001b[1;33m,\u001b[0m \u001b[0mself\u001b[0m\u001b[1;33m.\u001b[0m\u001b[0mengine\u001b[0m\u001b[1;33m)\u001b[0m\u001b[1;33m\u001b[0m\u001b[1;33m\u001b[0m\u001b[0m\n\u001b[0m\u001b[0;32m    933\u001b[0m \u001b[1;33m\u001b[0m\u001b[0m\n\u001b[0;32m    934\u001b[0m     \u001b[1;32mdef\u001b[0m \u001b[0mclose\u001b[0m\u001b[1;33m(\u001b[0m\u001b[0mself\u001b[0m\u001b[1;33m)\u001b[0m\u001b[1;33m:\u001b[0m\u001b[1;33m\u001b[0m\u001b[1;33m\u001b[0m\u001b[0m\n",
      "\u001b[1;32m~\\anaconda3\\lib\\site-packages\\pandas\\io\\parsers\\readers.py\u001b[0m in \u001b[0;36m_make_engine\u001b[1;34m(self, f, engine)\u001b[0m\n\u001b[0;32m   1214\u001b[0m             \u001b[1;31m# \"Union[str, PathLike[str], ReadCsvBuffer[bytes], ReadCsvBuffer[str]]\"\u001b[0m\u001b[1;33m\u001b[0m\u001b[1;33m\u001b[0m\u001b[0m\n\u001b[0;32m   1215\u001b[0m             \u001b[1;31m# , \"str\", \"bool\", \"Any\", \"Any\", \"Any\", \"Any\", \"Any\"\u001b[0m\u001b[1;33m\u001b[0m\u001b[1;33m\u001b[0m\u001b[0m\n\u001b[1;32m-> 1216\u001b[1;33m             self.handles = get_handle(  # type: ignore[call-overload]\n\u001b[0m\u001b[0;32m   1217\u001b[0m                 \u001b[0mf\u001b[0m\u001b[1;33m,\u001b[0m\u001b[1;33m\u001b[0m\u001b[1;33m\u001b[0m\u001b[0m\n\u001b[0;32m   1218\u001b[0m                 \u001b[0mmode\u001b[0m\u001b[1;33m,\u001b[0m\u001b[1;33m\u001b[0m\u001b[1;33m\u001b[0m\u001b[0m\n",
      "\u001b[1;32m~\\anaconda3\\lib\\site-packages\\pandas\\io\\common.py\u001b[0m in \u001b[0;36mget_handle\u001b[1;34m(path_or_buf, mode, encoding, compression, memory_map, is_text, errors, storage_options)\u001b[0m\n\u001b[0;32m    784\u001b[0m         \u001b[1;32mif\u001b[0m \u001b[0mioargs\u001b[0m\u001b[1;33m.\u001b[0m\u001b[0mencoding\u001b[0m \u001b[1;32mand\u001b[0m \u001b[1;34m\"b\"\u001b[0m \u001b[1;32mnot\u001b[0m \u001b[1;32min\u001b[0m \u001b[0mioargs\u001b[0m\u001b[1;33m.\u001b[0m\u001b[0mmode\u001b[0m\u001b[1;33m:\u001b[0m\u001b[1;33m\u001b[0m\u001b[1;33m\u001b[0m\u001b[0m\n\u001b[0;32m    785\u001b[0m             \u001b[1;31m# Encoding\u001b[0m\u001b[1;33m\u001b[0m\u001b[1;33m\u001b[0m\u001b[0m\n\u001b[1;32m--> 786\u001b[1;33m             handle = open(\n\u001b[0m\u001b[0;32m    787\u001b[0m                 \u001b[0mhandle\u001b[0m\u001b[1;33m,\u001b[0m\u001b[1;33m\u001b[0m\u001b[1;33m\u001b[0m\u001b[0m\n\u001b[0;32m    788\u001b[0m                 \u001b[0mioargs\u001b[0m\u001b[1;33m.\u001b[0m\u001b[0mmode\u001b[0m\u001b[1;33m,\u001b[0m\u001b[1;33m\u001b[0m\u001b[1;33m\u001b[0m\u001b[0m\n",
      "\u001b[1;31mFileNotFoundError\u001b[0m: [Errno 2] No such file or directory: 'Maraton-.csv'"
     ]
    }
   ],
   "source": [
    "df1 = pd.read_csv(\"Maraton-.csv\")\n",
    "\n",
    "# Mostrar las primeras 5 filas del DataFrame\n",
    "print(df1.head())"
   ]
  },
  {
   "cell_type": "markdown",
   "id": "52235470-30d0-43a7-90dc-12811cae150b",
   "metadata": {},
   "source": [
    "Vemos la información de la primera tabla"
   ]
  },
  {
   "cell_type": "code",
   "execution_count": null,
   "id": "e18d7829-b241-465a-b2cf-fd67430181be",
   "metadata": {},
   "outputs": [],
   "source": [
    "df1.info()"
   ]
  },
  {
   "cell_type": "code",
   "execution_count": null,
   "id": "9e4cea20-5589-4ada-9063-81a0a25c298f",
   "metadata": {},
   "outputs": [],
   "source": [
    "df1.columns"
   ]
  },
  {
   "cell_type": "code",
   "execution_count": null,
   "id": "ff77b360-62e9-42de-9f12-1cefd9c47ac0",
   "metadata": {},
   "outputs": [],
   "source": [
    "display(df1)"
   ]
  },
  {
   "cell_type": "markdown",
   "id": "f52e353b-543d-4fa8-88b5-3b599eb67cce",
   "metadata": {},
   "source": [
    "Extraemos de un link scrapeando"
   ]
  },
  {
   "cell_type": "code",
   "execution_count": null,
   "id": "5690d3d9-9d4d-4e11-a2b5-c49458a0d67c",
   "metadata": {},
   "outputs": [],
   "source": [
    "url = 'https://es.wikipedia.org/wiki/Marat%C3%B3n_de_Barcelona'"
   ]
  },
  {
   "cell_type": "code",
   "execution_count": null,
   "id": "1006f8e2-ee1d-48d5-9388-8de107a7ea85",
   "metadata": {},
   "outputs": [],
   "source": [
    "html=req.get(url).content\n",
    "\n",
    "html[:1000]"
   ]
  },
  {
   "cell_type": "code",
   "execution_count": null,
   "id": "cbfcbb9f-d8c9-45fc-aa38-f5c036156619",
   "metadata": {},
   "outputs": [],
   "source": [
    "len(html)"
   ]
  },
  {
   "cell_type": "markdown",
   "id": "2400f28e-74c8-4acb-af55-b2cd07664562",
   "metadata": {},
   "source": [
    "Analizamos el código 'HTML'"
   ]
  },
  {
   "cell_type": "code",
   "execution_count": null,
   "id": "2425f147-656e-48db-8d92-42a96397f2aa",
   "metadata": {},
   "outputs": [],
   "source": [
    "soup=bs(html, 'html.parser')\n",
    "\n",
    "type(soup)"
   ]
  },
  {
   "cell_type": "markdown",
   "id": "1c27e893-52fa-42b6-af54-e33458a3d0e9",
   "metadata": {},
   "source": [
    "Buscar la tabla con la clase wikitable"
   ]
  },
  {
   "cell_type": "code",
   "execution_count": null,
   "id": "bdf8e5dd-039d-4e8f-b3f5-3de2a4560a70",
   "metadata": {},
   "outputs": [],
   "source": [
    "table = soup.find('table', {'class': 'wikitable'})\n",
    "\n",
    "# Encontrar todas las filas de la tabla\n",
    "\n",
    "rows = table.find_all('tr')"
   ]
  },
  {
   "cell_type": "markdown",
   "id": "09b2ee2b-2493-47dc-a430-fd327db28810",
   "metadata": {},
   "source": [
    "Iterar sobre las filas y extraer los datos de la columna Tiempo"
   ]
  },
  {
   "cell_type": "code",
   "execution_count": null,
   "id": "0d708577-7cee-48fe-94c5-6346d040358d",
   "metadata": {},
   "outputs": [],
   "source": [
    "times = []\n",
    "for row in rows:\n",
    "    cols = row.find_all('td')\n",
    "    if len(cols) > 0:\n",
    "        time = cols[3].text.strip()\n",
    "        times.append(time)\n",
    "\n",
    "print(times)\n"
   ]
  },
  {
   "cell_type": "markdown",
   "id": "25c85297-c37b-446d-b44d-f9b58c520607",
   "metadata": {},
   "source": [
    "Crear una lista para almacenar los datos de la columna Tiempo"
   ]
  },
  {
   "cell_type": "code",
   "execution_count": null,
   "id": "947592f6-821b-4b7e-978b-11a1faac358b",
   "metadata": {},
   "outputs": [],
   "source": [
    "rows = table.find_all('tr')\n",
    "\n",
    "times = []"
   ]
  },
  {
   "cell_type": "code",
   "execution_count": null,
   "id": "be9a396a-ca13-47b0-8557-db49e3d983d1",
   "metadata": {},
   "outputs": [],
   "source": [
    "# Iterar sobre las filas y extraer los datos de la columna Tiempo\n",
    "for row in rows:\n",
    "    cols = row.find_all('td')\n",
    "    if len(cols) > 0:\n",
    "        time = cols[3].text.strip()\n",
    "        times.append(time)\n",
    "\n",
    "# Crear un DataFrame de Pandas con los datos de la columna Tiempo\n",
    "\n",
    "df = pd.DataFrame({'Tiempo': times})\n",
    "\n",
    "print(df.head())"
   ]
  },
  {
   "cell_type": "code",
   "execution_count": null,
   "id": "a69d7620-9520-4752-9089-7961ea3ff642",
   "metadata": {},
   "outputs": [],
   "source": [
    "display(df) # Mostramos la columna"
   ]
  },
  {
   "cell_type": "markdown",
   "id": "21c0ebb6-8b33-4790-aa90-417cbef92e6c",
   "metadata": {},
   "source": [
    "Juntamos las dos tablas "
   ]
  },
  {
   "cell_type": "code",
   "execution_count": null,
   "id": "b2716323-862e-43f8-b4e6-69a85179638d",
   "metadata": {},
   "outputs": [],
   "source": [
    "merged_df = df1.merge(df, how='left', left_index=True, right_index=True)"
   ]
  },
  {
   "cell_type": "code",
   "execution_count": null,
   "id": "08c008b6-4205-4ec2-b0a3-acc33f335843",
   "metadata": {},
   "outputs": [],
   "source": [
    "merged_df.head(3)"
   ]
  },
  {
   "cell_type": "code",
   "execution_count": null,
   "id": "dc1ce9f6-21cd-4879-b8fc-ae4ec6360433",
   "metadata": {},
   "outputs": [],
   "source": [
    "merged_df.shape"
   ]
  },
  {
   "cell_type": "code",
   "execution_count": null,
   "id": "08cfaa74-aeca-4146-9e79-79483c695aa7",
   "metadata": {},
   "outputs": [],
   "source": [
    "nan_cols = merged_df.isna().sum()\n",
    "\n",
    "nan_cols[nan_cols>0]  #valores nulos"
   ]
  },
  {
   "cell_type": "markdown",
   "id": "cdaff8b5-2060-42f9-9929-8f71828f2a6c",
   "metadata": {},
   "source": [
    "Reemplazamos los valores nulos"
   ]
  },
  {
   "cell_type": "code",
   "execution_count": null,
   "id": "1b4276e2-b265-47f9-b6a1-11fe708ab4d1",
   "metadata": {},
   "outputs": [],
   "source": [
    "data = [1, 2, float('nan'), 4, 5, float('nan'), 7, 8]\n",
    "\n",
    "for i in range(len(data)):\n",
    "    if np.isnan(data[i]):\n",
    "        data[i] = 100"
   ]
  },
  {
   "cell_type": "code",
   "execution_count": null,
   "id": "741b52ae-43e5-46b8-a5b0-e3065df32974",
   "metadata": {},
   "outputs": [],
   "source": [
    "merged_df.head(3)"
   ]
  },
  {
   "cell_type": "code",
   "execution_count": null,
   "id": "efe6d396-3433-4636-acc9-7d4c2ac94b7a",
   "metadata": {},
   "outputs": [],
   "source": [
    "merged_df.loc[36:38, \"Tiempo\"] = merged_df.loc[36:38, \"Tiempo\"].fillna(0)"
   ]
  },
  {
   "cell_type": "code",
   "execution_count": null,
   "id": "5f56adb5-f4b2-4b27-a986-db0ed099ac6b",
   "metadata": {},
   "outputs": [],
   "source": [
    "merged_df.head(3)"
   ]
  },
  {
   "cell_type": "markdown",
   "id": "816cfe34-9806-42a2-beeb-fb3be1fa8cba",
   "metadata": {},
   "source": [
    "Corregimos y guardamos "
   ]
  },
  {
   "cell_type": "code",
   "execution_count": null,
   "id": "bd3e4094-a12d-4985-b62d-5113fc65112b",
   "metadata": {},
   "outputs": [],
   "source": [
    "merged_df.loc[1, 'Tiempo'] = '2:08:57' ## Corregimos"
   ]
  },
  {
   "cell_type": "code",
   "execution_count": null,
   "id": "5dc40e5e-cfbd-4b20-9a15-053e23c6480e",
   "metadata": {},
   "outputs": [],
   "source": [
    "merged_df.head(40)"
   ]
  },
  {
   "cell_type": "code",
   "execution_count": null,
   "id": "8465b101-47b6-4c3b-a708-0d12e9f2250c",
   "metadata": {},
   "outputs": [],
   "source": []
  }
 ],
 "metadata": {
  "kernelspec": {
   "display_name": "Python 3 (ipykernel)",
   "language": "python",
   "name": "python3"
  },
  "language_info": {
   "codemirror_mode": {
    "name": "ipython",
    "version": 3
   },
   "file_extension": ".py",
   "mimetype": "text/x-python",
   "name": "python",
   "nbconvert_exporter": "python",
   "pygments_lexer": "ipython3",
   "version": "3.9.13"
  }
 },
 "nbformat": 4,
 "nbformat_minor": 5
}
